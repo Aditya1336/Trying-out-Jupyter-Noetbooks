{
 "cells": [
  {
   "cell_type": "markdown",
   "id": "260fcabb",
   "metadata": {},
   "source": [
    "## Data Science Tools and Ecosystem"
   ]
  },
  {
   "cell_type": "markdown",
   "id": "5c00391c",
   "metadata": {},
   "source": [
    "### In this notebook, data science tools and ecosystem are summarized."
   ]
  },
  {
   "cell_type": "markdown",
   "id": "91071f4e",
   "metadata": {},
   "source": [
    "#### Some of the popular languages that data scientists use are:\n",
    "1. Python\n",
    "2. R\n",
    "3. Scala"
   ]
  },
  {
   "cell_type": "markdown",
   "id": "f12dc7f6",
   "metadata": {},
   "source": [
    "#### Some of the commonly used data science libraries are:\n",
    "1. Pandas\n",
    "2. Numpy\n",
    "3. Matplotlib"
   ]
  },
  {
   "cell_type": "markdown",
   "id": "b5be3d3f",
   "metadata": {},
   "source": [
    "#### Some of the commonly used open source data science tools are:\n",
    "1. Apache Spark\n",
    "2. Apache Hadoop\n",
    "3. Tableau"
   ]
  },
  {
   "cell_type": "markdown",
   "id": "0bfbd026",
   "metadata": {},
   "source": [
    "### Below are few examples of evaluating arithmetic expressions in python"
   ]
  },
  {
   "cell_type": "code",
   "execution_count": 1,
   "id": "19939f50",
   "metadata": {},
   "outputs": [
    {
     "data": {
      "text/plain": [
       "17"
      ]
     },
     "execution_count": 1,
     "metadata": {},
     "output_type": "execute_result"
    }
   ],
   "source": [
    "(3*4)+5"
   ]
  },
  {
   "cell_type": "code",
   "execution_count": 2,
   "id": "d9966969",
   "metadata": {},
   "outputs": [
    {
     "data": {
      "text/plain": [
       "3.3333333333333335"
      ]
     },
     "execution_count": 2,
     "metadata": {},
     "output_type": "execute_result"
    }
   ],
   "source": [
    "200/60"
   ]
  },
  {
   "cell_type": "markdown",
   "id": "274f423d",
   "metadata": {},
   "source": [
    "**Objectives:**\n",
    "- Trying various header sizes in markdown.\n",
    "- Listing various data science languages.\n",
    "- Listing some open source tools used by data scientists.\n",
    "- Listing some of the common libaries used in data science.\n",
    "- Trying out arithmetic operations in jupyter notebook."
   ]
  },
  {
   "cell_type": "markdown",
   "id": "da369328",
   "metadata": {},
   "source": [
    "## Author\n",
    "Adi P"
   ]
  },
  {
   "cell_type": "code",
   "execution_count": null,
   "id": "ac7a684c",
   "metadata": {},
   "outputs": [],
   "source": []
  }
 ],
 "metadata": {
  "kernelspec": {
   "display_name": "Python 3 (ipykernel)",
   "language": "python",
   "name": "python3"
  },
  "language_info": {
   "codemirror_mode": {
    "name": "ipython",
    "version": 3
   },
   "file_extension": ".py",
   "mimetype": "text/x-python",
   "name": "python",
   "nbconvert_exporter": "python",
   "pygments_lexer": "ipython3",
   "version": "3.10.9"
  }
 },
 "nbformat": 4,
 "nbformat_minor": 5
}
